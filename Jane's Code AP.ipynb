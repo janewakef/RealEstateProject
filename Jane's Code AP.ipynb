{
 "cells": [
  {
   "cell_type": "code",
   "execution_count": 17,
   "metadata": {},
   "outputs": [],
   "source": [
    "import bs4\n",
    "import urllib\n",
    "import requests\n",
    "import pandas as pd"
   ]
  },
  {
   "cell_type": "code",
   "execution_count": 18,
   "metadata": {},
   "outputs": [],
   "source": [
    "headers = {'User-Agent': \"Mozilla/5.0 (Windows NT 10.0; Win64; x64) AppleWebKit/537.36 (KHTML, like Gecko) Chrome/63.0.3239.84 Safari/537.36\"}\n",
    "request = urllib.request.Request('https://www.realtor.com/soldhomeprices/Columbus_OH', headers=headers)\n",
    "source = urllib.request.urlopen(request).read()"
   ]
  },
  {
   "cell_type": "code",
   "execution_count": 14,
   "metadata": {},
   "outputs": [],
   "source": [
    "soup = bs4.BeautifulSoup(source,'html.parser')"
   ]
  },
  {
   "cell_type": "code",
   "execution_count": 41,
   "metadata": {},
   "outputs": [
    {
     "name": "stdout",
     "output_type": "stream",
     "text": [
      "<li class=\"component_property-card js-component_property-card \" data-featured=\"\" data-listingid=\"2915790463\" data-propertyid=\"3803025548\" data-rank=\"1\" data-similar-home-id=\"similar-home-card\" data-url=\"/realestateandhomes-detail/5422-Nottinghamshire-Ln_Westerville_OH_43081_M38030-25548\" id=\"1\" itemscope=\"\" itemtype=\"http://schema.org/SingleFamilyResidence\">\n",
      "<div class=\"seo-wrap hide\">\n",
      "<span itemprop=\"address\" itemscope=\"\" itemtype=\"http://schema.org/PostalAddress\">\n",
      "<span itemprop=\"streetAddress\">5422 Nottinghamshire Ln</span>\n",
      "<span itemprop=\"addressLocality\">Westerville</span>\n",
      "<span itemprop=\"addressRegion\">OH</span>\n",
      "<span itemprop=\"postalCode\">43081</span>\n",
      "</span>\n",
      "<span class=\"listing-geo\" itemprop=\"geo\" itemscope=\"\" itemtype=\"http://schema.org/GeoCoordinates\">\n",
      "<meta content=\"40.090322\" itemprop=\"latitude\"/>\n",
      "<meta content=\"-82.85243\" itemprop=\"longitude\"/>\n",
      "</span>\n",
      "</div>\n",
      "<div class=\"pre-card-wrap\">\n",
      "<div class=\"broker-info\">\n",
      "<div class=\"ellipsis\">\n",
      "<span> </span>\n",
      "<span data-label=\"property-management\"></span>\n",
      "</div>\n",
      "</div>\n",
      "<div class=\"label-wrap\">\n",
      "<span class=\"label c_label label-gray-darker\" data-label=\"property-label-sold\">\n",
      "          Sold\n",
      "           <span> on May 20, 2020 </span>\n",
      "</span>\n",
      "</div>\n",
      "</div>\n",
      "<div class=\"card-box js-navigate-to js-record-user-activity\" data-featured-token=\"\" data-is-swapped=\"image_swapped_card_no\" data-remnant=\"\" data-url=\"/realestateandhomes-detail/5422-Nottinghamshire-Ln_Westerville_OH_43081_M38030-25548\" id=\"3803025548\">\n",
      "<div class=\"photo-wrap \" data-label=\"property-photo\">\n",
      "<a href=\"/realestateandhomes-detail/5422-Nottinghamshire-Ln_Westerville_OH_43081_M38030-25548\">\n",
      "<img alt=\"Photo of 5422 Nottinghamshire Ln, Westerville, OH 43081\" class=\"js-srp-listing-photos main-photo\" data-atf=\"true\" data-omtag=\"recently_sold:srp_list:card:result_photo\" data-src=\"https://ap.rdcpix.com/b22d8a713b2ec4fba065a42149315e61l-m3987467858xd-w480_h480_q80.jpg\" itemprop=\"image\" onload='markAs(\"above-the-fold\",\"first-meaningful-paint\")' src=\"https://ap.rdcpix.com/b22d8a713b2ec4fba065a42149315e61l-m3987467858xd-w480_h480_q80.jpg\">\n",
      "</img></a>\n",
      "<div class=\"photo-wrap-detail-overlay\"></div>\n",
      "</div>\n",
      "<div class=\"detail-wrap ab-detail-padding no-cta\">\n",
      "<div class=\"photo-overlay\">\n",
      "<div class=\"photo-overlay-details\">\n",
      "<div class=\"property-type\">Condo/Townhome</div>\n",
      "</div>\n",
      "<div class=\"price ab-price \" data-label=\"property-price\">\n",
      "<span class=\"data-price\">$179,900</span>\n",
      "</div>\n",
      "</div>\n",
      "<ul class=\"prop-meta ellipsis ab-prop-meta \">\n",
      "<li data-label=\"property-meta-beds\"><span class=\"data-value meta-beds\">2</span> bed</li>\n",
      "<li data-label=\"property-meta-baths\"><span class=\"data-value\">2</span> bath</li>\n",
      "<li data-label=\"property-meta-sqft\"><span class=\"data-value\">1,466</span> sqft</li>\n",
      "<li data-label=\"property-meta-garage\"><span class=\"data-value\">1</span> car</li>\n",
      "</ul>\n",
      "<div class=\"location-wrapper-relative ab-location-display\">\n",
      "<div class=\"address ellipsis ab-address-text ab-address-margin-c1\" data-label=\"property-address\">\n",
      "<a href=\"/realestateandhomes-detail/5422-Nottinghamshire-Ln_Westerville_OH_43081_M38030-25548\">\n",
      "<span class=\"listing-street-address\">\n",
      "                  5422 Nottinghamshire Ln,\n",
      "                  </span>\n",
      "<span class=\"listing-city\">Westerville</span>,\n",
      "                  <span class=\"listing-region\">OH</span>\n",
      "<span class=\"listing-postal\">43081</span>\n",
      "</a>\n",
      "</div>\n",
      "</div>\n",
      "<span class=\"sm-arrow hide\"></span>\n",
      "</div>\n",
      "</div>\n",
      "</li>\n"
     ]
    }
   ],
   "source": [
    "houses = [house for house in soup.find_all('li', {'class', \"component_property-card js-component_property-card \"})]\n",
    "print(houses[0])"
   ]
  },
  {
   "cell_type": "code",
   "execution_count": null,
   "metadata": {},
   "outputs": [],
   "source": [
    "for house in houses:\n",
    "    listing_id = house.get(\"data-listingid\")\n",
    "    latlong = house.find_all(\"meta\")\n",
    "    latitude = latlong[0].get(\"content\")\n",
    "    longitude = latlong[0].get(\"content\")\n",
    "    sold_date = house.find(\"span\", {\"class\",\"label c_label label-gray-darker\"}).text.split(\"on \")[1].strip()\n",
    "    url = \"www.realtor.com\" + house.get(\"data-url\")\n",
    "    image = house.find(\"img\").get(\"src\")\n",
    "    price = house.find(\"span\", {\"class\",\"data-price\"}).text\n",
    "    \n",
    "    # get beds, baths, sqft, cars, street address, town, state, zip_code, prop_type"
   ]
  },
  {
   "cell_type": "code",
   "execution_count": 33,
   "metadata": {},
   "outputs": [
    {
     "data": {
      "text/plain": [
       "<li class=\"component_property-card js-component_property-card \" data-featured=\"\" data-listingid=\"2915790463\" data-propertyid=\"3803025548\" data-rank=\"1\" data-similar-home-id=\"similar-home-card\" data-url=\"/realestateandhomes-detail/5422-Nottinghamshire-Ln_Westerville_OH_43081_M38030-25548\" id=\"1\" itemscope=\"\" itemtype=\"http://schema.org/SingleFamilyResidence\">\n",
       "<div class=\"seo-wrap hide\">\n",
       "<span itemprop=\"address\" itemscope=\"\" itemtype=\"http://schema.org/PostalAddress\">\n",
       "<span itemprop=\"streetAddress\">5422 Nottinghamshire Ln</span>\n",
       "<span itemprop=\"addressLocality\">Westerville</span>\n",
       "<span itemprop=\"addressRegion\">OH</span>\n",
       "<span itemprop=\"postalCode\">43081</span>\n",
       "</span>\n",
       "<span class=\"listing-geo\" itemprop=\"geo\" itemscope=\"\" itemtype=\"http://schema.org/GeoCoordinates\">\n",
       "<meta content=\"40.090322\" itemprop=\"latitude\"/>\n",
       "<meta content=\"-82.85243\" itemprop=\"longitude\"/>\n",
       "</span>\n",
       "</div>\n",
       "<div class=\"pre-card-wrap\">\n",
       "<div class=\"broker-info\">\n",
       "<div class=\"ellipsis\">\n",
       "<span> </span>\n",
       "<span data-label=\"property-management\"></span>\n",
       "</div>\n",
       "</div>\n",
       "<div class=\"label-wrap\">\n",
       "<span class=\"label c_label label-gray-darker\" data-label=\"property-label-sold\">\n",
       "          Sold\n",
       "           <span> on May 20, 2020 </span>\n",
       "</span>\n",
       "</div>\n",
       "</div>\n",
       "<div class=\"card-box js-navigate-to js-record-user-activity\" data-featured-token=\"\" data-is-swapped=\"image_swapped_card_no\" data-remnant=\"\" data-url=\"/realestateandhomes-detail/5422-Nottinghamshire-Ln_Westerville_OH_43081_M38030-25548\" id=\"3803025548\">\n",
       "<div class=\"photo-wrap \" data-label=\"property-photo\">\n",
       "<a href=\"/realestateandhomes-detail/5422-Nottinghamshire-Ln_Westerville_OH_43081_M38030-25548\">\n",
       "<img alt=\"Photo of 5422 Nottinghamshire Ln, Westerville, OH 43081\" class=\"js-srp-listing-photos main-photo\" data-atf=\"true\" data-omtag=\"recently_sold:srp_list:card:result_photo\" data-src=\"https://ap.rdcpix.com/b22d8a713b2ec4fba065a42149315e61l-m3987467858xd-w480_h480_q80.jpg\" itemprop=\"image\" onload='markAs(\"above-the-fold\",\"first-meaningful-paint\")' src=\"https://ap.rdcpix.com/b22d8a713b2ec4fba065a42149315e61l-m3987467858xd-w480_h480_q80.jpg\">\n",
       "</img></a>\n",
       "<div class=\"photo-wrap-detail-overlay\"></div>\n",
       "</div>\n",
       "<div class=\"detail-wrap ab-detail-padding no-cta\">\n",
       "<div class=\"photo-overlay\">\n",
       "<div class=\"photo-overlay-details\">\n",
       "<div class=\"property-type\">Condo/Townhome</div>\n",
       "</div>\n",
       "<div class=\"price ab-price \" data-label=\"property-price\">\n",
       "<span class=\"data-price\">$179,900</span>\n",
       "</div>\n",
       "</div>\n",
       "<ul class=\"prop-meta ellipsis ab-prop-meta \">\n",
       "<li data-label=\"property-meta-beds\"><span class=\"data-value meta-beds\">2</span> bed</li>\n",
       "<li data-label=\"property-meta-baths\"><span class=\"data-value\">2</span> bath</li>\n",
       "<li data-label=\"property-meta-sqft\"><span class=\"data-value\">1,466</span> sqft</li>\n",
       "<li data-label=\"property-meta-garage\"><span class=\"data-value\">1</span> car</li>\n",
       "</ul>\n",
       "<div class=\"location-wrapper-relative ab-location-display\">\n",
       "<div class=\"address ellipsis ab-address-text ab-address-margin-c1\" data-label=\"property-address\">\n",
       "<a href=\"/realestateandhomes-detail/5422-Nottinghamshire-Ln_Westerville_OH_43081_M38030-25548\">\n",
       "<span class=\"listing-street-address\">\n",
       "                  5422 Nottinghamshire Ln,\n",
       "                  </span>\n",
       "<span class=\"listing-city\">Westerville</span>,\n",
       "                  <span class=\"listing-region\">OH</span>\n",
       "<span class=\"listing-postal\">43081</span>\n",
       "</a>\n",
       "</div>\n",
       "</div>\n",
       "<span class=\"sm-arrow hide\"></span>\n",
       "</div>\n",
       "</div>\n",
       "</li>"
      ]
     },
     "execution_count": 33,
     "metadata": {},
     "output_type": "execute_result"
    }
   ],
   "source": [
    "houses = soup.findAll(\"li\", {\"class\":\"component_property-card js-component_property-card \"})\n",
    "house = houses[0]\n",
    "house"
   ]
  },
  {
   "cell_type": "code",
   "execution_count": 39,
   "metadata": {},
   "outputs": [],
   "source": [
    "stAdd = house.findAll(\"span\", {'itemprop':'streetAddress'})[0].text\n",
    "stAdd\n",
    "city = house.findAll(\"span\", {'itemprop':'addressLocality'})[0].text\n",
    "region = house.findAll(\"span\", {'itemprop':'addressRegion'})[0].text\n",
    "postalCode = house.findAll(\"span\", {'itemprop':'postalCode'})[0].text"
   ]
  },
  {
   "cell_type": "code",
   "execution_count": 40,
   "metadata": {},
   "outputs": [
    {
     "name": "stdout",
     "output_type": "stream",
     "text": [
      "5422 Nottinghamshire Ln\n",
      "Westerville, OH\n",
      "43081\n"
     ]
    }
   ],
   "source": [
    "address = stAdd + \"\\n\" + city + \", \" + region + \"\\n\" + postalCode\n",
    "print(address)"
   ]
  },
  {
   "cell_type": "code",
   "execution_count": 51,
   "metadata": {},
   "outputs": [
    {
     "data": {
      "text/plain": [
       "'2'"
      ]
     },
     "execution_count": 51,
     "metadata": {},
     "output_type": "execute_result"
    }
   ],
   "source": [
    "bed = house.find(\"span\", {\"class\":\"data-value meta-beds\"}).text\n",
    "bed\n",
    "bath = house.find(\"li\", {\"data-label\":\"property-meta-baths\"}).span.text\n",
    "bath"
   ]
  },
  {
   "cell_type": "code",
   "execution_count": 50,
   "metadata": {},
   "outputs": [
    {
     "data": {
      "text/plain": [
       "'1,466'"
      ]
     },
     "execution_count": 50,
     "metadata": {},
     "output_type": "execute_result"
    }
   ],
   "source": [
    "sqft = house.find(\"li\", {\"data-label\":\"property-meta-sqft\"}).span.text\n"
   ]
  },
  {
   "cell_type": "code",
   "execution_count": null,
   "metadata": {},
   "outputs": [],
   "source": [
    "garage = house.find(\"li\", {\"data-label\":\"property-meta-sqft\"})\n"
   ]
  }
 ],
 "metadata": {
  "kernelspec": {
   "display_name": "Python 3",
   "language": "python",
   "name": "python3"
  },
  "language_info": {
   "codemirror_mode": {
    "name": "ipython",
    "version": 3
   },
   "file_extension": ".py",
   "mimetype": "text/x-python",
   "name": "python",
   "nbconvert_exporter": "python",
   "pygments_lexer": "ipython3",
   "version": "3.7.1"
  }
 },
 "nbformat": 4,
 "nbformat_minor": 2
}
