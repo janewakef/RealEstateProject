{
 "cells": [
  {
   "cell_type": "code",
   "execution_count": 15,
   "metadata": {},
   "outputs": [],
   "source": [
    "import bs4\n",
    "import urllib\n",
    "import requests\n",
    "import pandas as pd"
   ]
  },
  {
   "cell_type": "code",
   "execution_count": 19,
   "metadata": {},
   "outputs": [],
   "source": [
    "number_of_pages = 50\n",
    "origURL = 'https://www.realtor.com/soldhomeprices/Columbus_OH'\n",
    "list_of_pages = [origURL]\n",
    "i = 2\n",
    "while i <= number_of_pages:\n",
    "    new_page = origURL + '/pg-' + str(i)\n",
    "    list_of_pages.append(new_page)\n",
    "    i = i +1"
   ]
  },
  {
   "cell_type": "code",
   "execution_count": 21,
   "metadata": {},
   "outputs": [
    {
     "name": "stdout",
     "output_type": "stream",
     "text": [
      "[]\n"
     ]
    }
   ],
   "source": [
    "# retrieves all house url's from a given page\n",
    "# HERE SOUP IN THE LINK TO A PAGE WITH A BUNCH OF HOUSES ON IT\n",
    "house_urls_ALL = []\n",
    "realty_url = 'https://www.realtor.com'\n",
    "\n",
    "for page in list_of_pages:\n",
    "    headers = {'User-Agent': \"Mozilla/5.0 (Windows NT 10.0; Win64; x64) AppleWebKit/537.36 (KHTML, like Gecko) Chrome/63.0.3239.84 Safari/537.36\"}\n",
    "    request = urllib.request.Request(page, headers=headers)\n",
    "    source = urllib.request.urlopen(request).read()\n",
    "    soup = bs4.BeautifulSoup(source,'html.parser')\n",
    "    # print(soup)\n",
    "    page_urls = [realty_url + house.get('data-url') for house in soup.find_all('li', {'class' : 'component_property-card js-component_property-card'})]\n",
    "    house_urls_ALL.extend(page_urls)\n",
    "print(house_urls_ALL)"
   ]
  },
  {
   "cell_type": "code",
   "execution_count": null,
   "metadata": {},
   "outputs": [],
   "source": [
    "sold_houses = pd.DataFrame(columns=col_names)\n",
    "for house_url in house_urls:\n",
    "    headers = {'User-Agent': \"Mozilla/5.0 (Windows NT 10.0; Win64; x64) AppleWebKit/537.36 (KHTML, like Gecko) Chrome/63.0.3239.84 Safari/537.36\"}\n",
    "    request = urllib.request.Request(house_url, headers=headers)\n",
    "    source = urllib.request.urlopen(request).read()\n",
    "    soup = bs4.BeautifulSoup(source,'html.parser')\n",
    "    # this gets all the house info I think we will want \n",
    "    # this soup is the soup for the INDIVIDUAL HOUSE\n",
    "    house_details = soup.find('ul', {'class': \"list-default row\"})\n",
    "    features = [feature.text for feature in house_details.find_all('li')]\n",
    "    for feature in features:\n",
    "        if(feature.startswith(\"Beds\")):\n",
    "            bedrooms = feature.split()[1]\n",
    "        if(feature.startswith(\"Rooms\")):\n",
    "            rooms = feature.split()[1]       \n",
    "        if(feature.startswith(\"House size\")):\n",
    "            sq_feet = feature.split()[2]       \n",
    "        if(feature.startswith(\"Stories\")):\n",
    "            stories = feature.split()[1]   \n",
    "        if(feature.startswith(\"Lot size\")):\n",
    "            lot_size = feature.split(' ')[2]     \n",
    "        if(feature.startswith(\"Garage\")):\n",
    "            garage = feature.split()[1]      \n",
    "        if(feature.startswith(\"Heating\")):\n",
    "            heating = feature.split()[1]    \n",
    "        if(feature.startswith(\"Cooling\")):\n",
    "            cooling = feature.split()[1]   \n",
    "        if(feature.startswith(\"Year built\")):\n",
    "            year_built = feature.split()[2]     \n",
    "        if(feature.startswith(\"Year renovated\")):\n",
    "            year_built = feature.split()[2]      \n",
    "        if(feature.startswith(\"Property type:\")):\n",
    "            prop_type = feature.split()[2]      \n",
    "        if(feature.startswith(\"Style\")):\n",
    "            style = feature.split()[1]    \n",
    "    address = soup.find('input', {'id': 'full_address_display'}).get('value')\n",
    "    city = soup.find('input', {'id': 'city'}).get('value')\n",
    "    sale_price = soup.find('input', {'id': 'price'}).get('value')\n",
    "    zip_code = soup.find(\"meta\", {\"property\":\"og:postal-code\"}).get(\"content\")\n",
    "    latitude = soup.find(\"meta\", {\"property\":\"place:location:latitude\"}).get(\"content\")\n",
    "    longitude = soup.find(\"meta\", {\"property\":\"place:location:longitude\"}).get(\"content\")\n",
    "    #image = soup.find(\"meta\", {\"name\":\"twitter:image\"}).get(\"content\")\n",
    "    house_info = [bedrooms, rooms, sq_feet, stories, lot_size, garage, heating, cooling, year_built, prop_type,\n",
    "                style, address,city, sale_price, zip_code,latitude, longitude]\n",
    "    sold_houses.loc[df.shape[1]] = house_info"
   ]
  }
 ],
 "metadata": {
  "kernelspec": {
   "display_name": "Python 3",
   "language": "python",
   "name": "python3"
  },
  "language_info": {
   "codemirror_mode": {
    "name": "ipython",
    "version": 3
   },
   "file_extension": ".py",
   "mimetype": "text/x-python",
   "name": "python",
   "nbconvert_exporter": "python",
   "pygments_lexer": "ipython3",
   "version": "3.7.3"
  }
 },
 "nbformat": 4,
 "nbformat_minor": 2
}
