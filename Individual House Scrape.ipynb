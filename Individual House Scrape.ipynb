{
 "cells": [
  {
   "cell_type": "code",
   "execution_count": 1,
   "metadata": {},
   "outputs": [],
   "source": [
    "import bs4\n",
    "import urllib\n",
    "import requests\n",
    "import pandas as pd"
   ]
  },
  {
   "cell_type": "code",
   "execution_count": 2,
   "metadata": {},
   "outputs": [],
   "source": [
    "headers = {'User-Agent': \"Mozilla/5.0 (Windows NT 10.0; Win64; x64) AppleWebKit/537.36 (KHTML, like Gecko) Chrome/63.0.3239.84 Safari/537.36\"}\n",
    "request = urllib.request.Request('https://www.realtor.com/realestateandhomes-detail/5422-Nottinghamshire-Ln_Westerville_OH_43081_M38030-25548', headers=headers)\n",
    "source = urllib.request.urlopen(request).read()"
   ]
  },
  {
   "cell_type": "code",
   "execution_count": 3,
   "metadata": {},
   "outputs": [],
   "source": [
    "soup = bs4.BeautifulSoup(source,'html.parser')"
   ]
  },
  {
   "cell_type": "code",
   "execution_count": null,
   "metadata": {},
   "outputs": [],
   "source": [
    "# this gets all the house info I think we will want \n",
    "house_details = soup.find('ul', {'class': \"list-default row\"})\n",
    "features = [feature.text for feature in house_details.find_all('li')]\n",
    "print(features)\n",
    "\n",
    "for feature in features:\n",
    "    if(feature.startswith(\"Beds\")):\n",
    "        bedrooms = feature.split()[1]\n",
    "        print(bedrooms)\n",
    "        \n",
    "    if(feature.startswith(\"Rooms\")):\n",
    "        rooms = feature.split()[1]\n",
    "        print(rooms)\n",
    "        \n",
    "    if(feature.startswith(\"House size\")):\n",
    "        sq_feet = feature.split()[2]\n",
    "        print(sq_feet)\n",
    "        \n",
    "    if(feature.startswith(\"Stories\")):\n",
    "        stories = feature.split()[1]\n",
    "        print(stories)\n",
    "        \n",
    "    if(feature.startswith(\"Lot size\")):\n",
    "        lot_size = feature.split(' ')[2]\n",
    "        print(lot_size)\n",
    "        \n",
    "    if(feature.startswith(\"Garage\")):\n",
    "        garage = feature.split()[1]\n",
    "        print(garage)\n",
    "        \n",
    "    if(feature.startswith(\"Heating\")):\n",
    "        heating = feature.split()[1]\n",
    "        print(heating)\n",
    "        \n",
    "    if(feature.startswith(\"Cooling\")):\n",
    "        cooling = feature.split()[1]\n",
    "        print(cooling)\n",
    "        \n",
    "    if(feature.startswith(\"Year built\")):\n",
    "        year_built = feature.split()[2]\n",
    "        print(year_built)\n",
    "        \n",
    "    if(feature.startswith(\"Year renovated\")):\n",
    "        year_built = feature.split()[2]\n",
    "        print(year_built)\n",
    "        \n",
    "    if(feature.startswith(\"Property type:\")):\n",
    "        prop_type = feature.split()[2]\n",
    "        print(prop_type)\n",
    "        \n",
    "    if(feature.startswith(\"Style\")):\n",
    "        style = feature.split()[1]\n",
    "        print(style)\n",
    "        \n",
    "address = soup.find('input', {'id': 'full_address_display'}).get('value')\n",
    "print(address)\n",
    "\n",
    "city = soup.find('input', {'id': 'city'}).get('value')\n",
    "print(city)\n",
    "\n",
    "price = soup.find('input', {'id': 'price'}).get('value')\n",
    "print(price)\n",
    "\n",
    "\n"
   ]
  },
  {
   "cell_type": "code",
   "execution_count": 23,
   "metadata": {},
   "outputs": [
    {
     "name": "stdout",
     "output_type": "stream",
     "text": [
      "['Beds: 2', 'Rooms: 5', 'House size: 1,466 sq ft', 'Stories: 1', 'Lot size: 2323', 'Garage: Attached Garage', 'Heating: Unknown', 'Cooling: Unknown', 'Year built: 2011', 'Year renovated: 2011', 'Property type: Condo', 'Style: Condo/Apartment', 'Date updated: 05/09/2020']\n",
      "2\n",
      "5\n",
      "1,466\n",
      "1\n",
      "2323\n",
      "Attached\n",
      "Unknown\n",
      "Unknown\n",
      "2011\n",
      "2011\n",
      "Condo\n",
      "Condo/Apartment\n"
     ]
    }
   ],
   "source": [
    "# this gets all the house info, we will need to see if the terms are uniform and if\n",
    "# so we can very easily just clean them up and assign them to vairables\n",
    "house_details = soup.find('ul', {'class': \"list-default row\"})\n",
    "features = [feature.text for feature in house_details.find_all('li')]\n",
    "print(features)\n",
    "\n",
    "for feature in features:\n",
    "    if(feature.startswith(\"Beds\")):\n",
    "        bedrooms = feature.split()[1]\n",
    "        print(bedrooms)\n",
    "        \n",
    "    if(feature.startswith(\"Rooms\")):\n",
    "        rooms = feature.split()[1]\n",
    "        print(rooms)\n",
    "        \n",
    "    if(feature.startswith(\"House size\")):\n",
    "        sq_feet = feature.split()[2]\n",
    "        print(sq_feet)\n",
    "        \n",
    "    if(feature.startswith(\"Stories\")):\n",
    "        stories = feature.split()[1]\n",
    "        print(stories)\n",
    "        \n",
    "    if(feature.startswith(\"Lot size\")):\n",
    "        lot_size = feature.split(' ')[2]\n",
    "        print(lot_size)\n",
    "        \n",
    "    if(feature.startswith(\"Garage\")):\n",
    "        garage = feature.split()[1]\n",
    "        print(garage)\n",
    "        \n",
    "    if(feature.startswith(\"Heating\")):\n",
    "        heating = feature.split()[1]\n",
    "        print(heating)\n",
    "        \n",
    "    if(feature.startswith(\"Cooling\")):\n",
    "        cooling = feature.split()[1]\n",
    "        print(cooling)\n",
    "        \n",
    "    if(feature.startswith(\"Year built\")):\n",
    "        year_built = feature.split()[2]\n",
    "        print(year_built)\n",
    "        \n",
    "    if(feature.startswith(\"Year renovated\")):\n",
    "        year_built = feature.split()[2]\n",
    "        print(year_built)\n",
    "        \n",
    "    if(feature.startswith(\"Property type:\")):\n",
    "        prop_type = feature.split()[2]\n",
    "        print(prop_type)\n",
    "        \n",
    "    if(feature.startswith(\"Style\")):\n",
    "        style = feature.split()[1]\n",
    "        print(style)\n"
   ]
  },
  {
   "cell_type": "code",
   "execution_count": 10,
   "metadata": {},
   "outputs": [
    {
     "name": "stdout",
     "output_type": "stream",
     "text": [
      "5422 Nottinghamshire Ln, Westerville, OH 43081\n",
      "recently_sold\n",
      "condo\n",
      "Westerville\n",
      "179900\n"
     ]
    }
   ],
   "source": [
    "# WE ARE SAYING TO REMOVE SCHOOL DISTRICT\n",
    "\n",
    "# this gets the school district, NOT WORKNG RN\n",
    "address = soup.find('input', {'id': 'full_address_display'}).get('value')\n",
    "print(address)\n",
    "\n",
    "prop_status = soup.find('input', {'id': 'prop_status'}).get('value')\n",
    "print(prop_status)\n",
    "\n",
    "\n",
    "prop_type = soup.find('input', {'id': 'prop_type'}).get('value')\n",
    "print(prop_type)\n",
    "\n",
    "\n",
    "city = soup.find('input', {'id': 'city'}).get('value')\n",
    "print(city)\n",
    "\n",
    "\n",
    "price = soup.find('input', {'id': 'price'}).get('value')\n",
    "print(price)\n"
   ]
  },
  {
   "cell_type": "code",
   "execution_count": null,
   "metadata": {},
   "outputs": [],
   "source": []
  },
  {
   "cell_type": "code",
   "execution_count": null,
   "metadata": {},
   "outputs": [],
   "source": []
  },
  {
   "cell_type": "code",
   "execution_count": null,
   "metadata": {},
   "outputs": [],
   "source": []
  },
  {
   "cell_type": "code",
   "execution_count": null,
   "metadata": {},
   "outputs": [],
   "source": []
  }
 ],
 "metadata": {
  "kernelspec": {
   "display_name": "Python 3",
   "language": "python",
   "name": "python3"
  },
  "language_info": {
   "codemirror_mode": {
    "name": "ipython",
    "version": 3
   },
   "file_extension": ".py",
   "mimetype": "text/x-python",
   "name": "python",
   "nbconvert_exporter": "python",
   "pygments_lexer": "ipython3",
   "version": "3.7.3"
  }
 },
 "nbformat": 4,
 "nbformat_minor": 2
}
