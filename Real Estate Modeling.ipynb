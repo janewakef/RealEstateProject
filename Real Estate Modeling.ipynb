{
 "cells": [
  {
   "cell_type": "code",
   "execution_count": 1,
   "metadata": {},
   "outputs": [],
   "source": [
    "import numpy as np\n",
    "import pandas as pd\n",
    "%matplotlib inline\n",
    "import matplotlib.pyplot as plt\n",
    "import pandas_datareader as pdr\n",
    "import seaborn as seabornInstance \n",
    "from sklearn.model_selection import train_test_split \n",
    "from sklearn.linear_model import LinearRegression\n",
    "from sklearn import metrics\n",
    "import statsmodels\n",
    "import statsmodels.api as sm"
   ]
  },
  {
   "cell_type": "code",
   "execution_count": 2,
   "metadata": {},
   "outputs": [],
   "source": [
    "# importing data, getting dimensions\n",
    "homes = pd.read_csv(\"/Users/danieldetrick/Documents/GitHub/RealEstate.csv\")"
   ]
  },
  {
   "cell_type": "code",
   "execution_count": 3,
   "metadata": {},
   "outputs": [],
   "source": [
    "# choosing specific collumns, removing the rest \n",
    "homes = homes[['prop type', 'city', 'postal code', 'price', 'bed', 'bath', 'sqft']]"
   ]
  },
  {
   "cell_type": "code",
   "execution_count": 4,
   "metadata": {},
   "outputs": [],
   "source": [
    "# cleaning data and setting types\n",
    "homes['sqft'] = homes['sqft'].str.replace(\",\", \"\")\n",
    "homes['price'] = homes['price'].str.replace(\",\", \"\")\n",
    "homes['price'] = homes['price'].str.replace(\"$\", \"\")\n",
    "homes['bath'] = homes['bath'].str.replace(\"+\", \"\")\n",
    "\n",
    "homes['bath'] = pd.to_numeric(homes['bath'])\n",
    "homes['sqft'] = pd.to_numeric(homes['sqft'])\n",
    "homes['price'] = pd.to_numeric(homes['price'])"
   ]
  },
  {
   "cell_type": "code",
   "execution_count": 5,
   "metadata": {},
   "outputs": [
    {
     "data": {
      "image/png": "[encoded data removed]",
      "text/plain": [
       "<Figure size 432x288 with 1 Axes>"
      ]
     },
     "metadata": {
      "needs_background": "light"
     },
     "output_type": "display_data"
    }
   ],
   "source": [
    "# Plotting the first realtionship between square feet and price\n",
    "plt.scatter(np.log(homes['sqft']), np.log(homes['price']), color='g')\n",
    "plt.xlabel('Selling Price')\n",
    "plt.ylabel('Log Selling Price')\n",
    "plt.show()"
   ]
  },
  {
   "cell_type": "code",
   "execution_count": 6,
   "metadata": {},
   "outputs": [
    {
     "data": {
      "text/html": [
       "<div>\n",
       "<style scoped>\n",
       "    .dataframe tbody tr th:only-of-type {\n",
       "        vertical-align: middle;\n",
       "    }\n",
       "\n",
       "    .dataframe tbody tr th {\n",
       "        vertical-align: top;\n",
       "    }\n",
       "\n",
       "    .dataframe thead th {\n",
       "        text-align: right;\n",
       "    }\n",
       "</style>\n",
       "<table border=\"1\" class=\"dataframe\">\n",
       "  <thead>\n",
       "    <tr style=\"text-align: right;\">\n",
       "      <th></th>\n",
       "      <th>prop type</th>\n",
       "      <th>city</th>\n",
       "      <th>postal code</th>\n",
       "      <th>price</th>\n",
       "      <th>bed</th>\n",
       "      <th>bath</th>\n",
       "      <th>sqft</th>\n",
       "    </tr>\n",
       "  </thead>\n",
       "  <tbody>\n",
       "    <tr>\n",
       "      <th>0</th>\n",
       "      <td>Condo/Townhome</td>\n",
       "      <td>Westerville</td>\n",
       "      <td>43081</td>\n",
       "      <td>179900</td>\n",
       "      <td>2.0</td>\n",
       "      <td>2.0</td>\n",
       "      <td>1466.0</td>\n",
       "    </tr>\n",
       "    <tr>\n",
       "      <th>1</th>\n",
       "      <td>Condo/Townhome</td>\n",
       "      <td>Westerville</td>\n",
       "      <td>43081</td>\n",
       "      <td>404000</td>\n",
       "      <td>3.0</td>\n",
       "      <td>3.0</td>\n",
       "      <td>2400.0</td>\n",
       "    </tr>\n",
       "    <tr>\n",
       "      <th>2</th>\n",
       "      <td>Condo/Townhome</td>\n",
       "      <td>Columbus</td>\n",
       "      <td>43240</td>\n",
       "      <td>245000</td>\n",
       "      <td>2.0</td>\n",
       "      <td>3.5</td>\n",
       "      <td>2058.0</td>\n",
       "    </tr>\n",
       "    <tr>\n",
       "      <th>3</th>\n",
       "      <td>Condo/Townhome</td>\n",
       "      <td>Columbus</td>\n",
       "      <td>43215</td>\n",
       "      <td>181500</td>\n",
       "      <td>2.0</td>\n",
       "      <td>1.5</td>\n",
       "      <td>988.0</td>\n",
       "    </tr>\n",
       "    <tr>\n",
       "      <th>4</th>\n",
       "      <td>Condo/Townhome</td>\n",
       "      <td>Grove City</td>\n",
       "      <td>43123</td>\n",
       "      <td>200000</td>\n",
       "      <td>4.0</td>\n",
       "      <td>2.5</td>\n",
       "      <td>1590.0</td>\n",
       "    </tr>\n",
       "  </tbody>\n",
       "</table>\n",
       "</div>"
      ],
      "text/plain": [
       "        prop type         city  postal code   price  bed  bath    sqft\n",
       "0  Condo/Townhome  Westerville        43081  179900  2.0   2.0  1466.0\n",
       "1  Condo/Townhome  Westerville        43081  404000  3.0   3.0  2400.0\n",
       "2  Condo/Townhome     Columbus        43240  245000  2.0   3.5  2058.0\n",
       "3  Condo/Townhome     Columbus        43215  181500  2.0   1.5   988.0\n",
       "4  Condo/Townhome   Grove City        43123  200000  4.0   2.5  1590.0"
      ]
     },
     "execution_count": 6,
     "metadata": {},
     "output_type": "execute_result"
    }
   ],
   "source": [
    "##Drop NaN values found in sqft and resetting index \n",
    "homes.dropna(inplace = True)\n",
    "homes.reset_index(drop=True, inplace = True)\n",
    "homes.head(5)"
   ]
  },
  {
   "cell_type": "code",
   "execution_count": 7,
   "metadata": {},
   "outputs": [],
   "source": [
    "# Preparing to make ML model for SLR\n",
    "x = homes['sqft'].values.reshape(-1,1)\n",
    "y = homes['price'].values.reshape(-1,1)"
   ]
  },
  {
   "cell_type": "code",
   "execution_count": 8,
   "metadata": {},
   "outputs": [
    {
     "name": "stdout",
     "output_type": "stream",
     "text": [
      "[-32074.62612827]\n",
      "[[159.16368481]]\n"
     ]
    }
   ],
   "source": [
    "# Splits data into testing vs training set then creats model \n",
    "X_train, X_test, y_train, y_test = train_test_split(x, y, test_size=0.1, random_state=0)\n",
    "regressor = LinearRegression()  \n",
    "regressor.fit(X_train, y_train) \n",
    "print(regressor.intercept_)\n",
    "print(regressor.coef_)"
   ]
  },
  {
   "cell_type": "code",
   "execution_count": 9,
   "metadata": {},
   "outputs": [
    {
     "data": {
      "text/html": [
       "<div>\n",
       "<style scoped>\n",
       "    .dataframe tbody tr th:only-of-type {\n",
       "        vertical-align: middle;\n",
       "    }\n",
       "\n",
       "    .dataframe tbody tr th {\n",
       "        vertical-align: top;\n",
       "    }\n",
       "\n",
       "    .dataframe thead th {\n",
       "        text-align: right;\n",
       "    }\n",
       "</style>\n",
       "<table border=\"1\" class=\"dataframe\">\n",
       "  <thead>\n",
       "    <tr style=\"text-align: right;\">\n",
       "      <th></th>\n",
       "      <th>Actual</th>\n",
       "      <th>Predicted</th>\n",
       "    </tr>\n",
       "  </thead>\n",
       "  <tbody>\n",
       "    <tr>\n",
       "      <th>0</th>\n",
       "      <td>126500</td>\n",
       "      <td>141095.462947</td>\n",
       "    </tr>\n",
       "    <tr>\n",
       "      <th>1</th>\n",
       "      <td>161000</td>\n",
       "      <td>183433.003107</td>\n",
       "    </tr>\n",
       "    <tr>\n",
       "      <th>2</th>\n",
       "      <td>175000</td>\n",
       "      <td>185024.639955</td>\n",
       "    </tr>\n",
       "    <tr>\n",
       "      <th>3</th>\n",
       "      <td>216000</td>\n",
       "      <td>175952.309921</td>\n",
       "    </tr>\n",
       "    <tr>\n",
       "      <th>4</th>\n",
       "      <td>385000</td>\n",
       "      <td>878978.305736</td>\n",
       "    </tr>\n",
       "  </tbody>\n",
       "</table>\n",
       "</div>"
      ],
      "text/plain": [
       "   Actual      Predicted\n",
       "0  126500  141095.462947\n",
       "1  161000  183433.003107\n",
       "2  175000  185024.639955\n",
       "3  216000  175952.309921\n",
       "4  385000  878978.305736"
      ]
     },
     "execution_count": 9,
     "metadata": {},
     "output_type": "execute_result"
    }
   ],
   "source": [
    "# Outputs actual selling price vs model prediction\n",
    "y_pred = regressor.predict(X_test)\n",
    "df = pd.DataFrame({'Actual': y_test.flatten(), 'Predicted': y_pred.flatten()})\n",
    "df.head(5)"
   ]
  },
  {
   "cell_type": "code",
   "execution_count": 10,
   "metadata": {},
   "outputs": [],
   "source": [
    "# Now I start with MLR"
   ]
  },
  {
   "cell_type": "code",
   "execution_count": 11,
   "metadata": {},
   "outputs": [],
   "source": [
    "# I do not want to include land properties in this analysis so I will sort them out \n",
    "homes['prop type'].unique()\n",
    "\n",
    "# removing property type land:\n",
    "homes = homes[(homes['prop type'] != 'Land')]"
   ]
  },
  {
   "cell_type": "code",
   "execution_count": 12,
   "metadata": {},
   "outputs": [
    {
     "data": {
      "text/plain": [
       "(369, 7)"
      ]
     },
     "execution_count": 12,
     "metadata": {},
     "output_type": "execute_result"
    }
   ],
   "source": [
    "# Seeing how many homes I still have in my data set\n",
    "homes.shape"
   ]
  },
  {
   "cell_type": "code",
   "execution_count": 13,
   "metadata": {},
   "outputs": [],
   "source": [
    "# Condo vs not\n",
    "homes['Condo?'] = homes.apply(lambda x: (1 if x['prop type'] == 'Condo/Townhome' else 0), axis=1)"
   ]
  },
  {
   "cell_type": "code",
   "execution_count": 14,
   "metadata": {},
   "outputs": [
    {
     "data": {
      "text/plain": [
       "array(['Westerville', 'Columbus', 'Grove City', 'Dublin',\n",
       "       'Canal Winchester', 'Groveport', 'Worthington', 'Hilliard',\n",
       "       'New Albany', 'Galloway', 'Reynoldsburg', 'Blacklick', 'Powell',\n",
       "       'Lewis Center'], dtype=object)"
      ]
     },
     "execution_count": 14,
     "metadata": {},
     "output_type": "execute_result"
    }
   ],
   "source": [
    "# We have 15 unique cities- I will \n",
    "homes['city'].unique()"
   ]
  },
  {
   "cell_type": "code",
   "execution_count": 15,
   "metadata": {},
   "outputs": [],
   "source": [
    "# Adding binary varibales for each city- i think we can do this in a loop just wasnt sure how\n",
    "homes['Westerville'] = homes.apply(lambda x: (1 if x['city'] == 'Westerville' else 0), axis=1)\n",
    "homes['Blacklick'] = homes.apply(lambda x: (1 if x['city'] == 'Blacklick' else 0), axis=1)\n",
    "homes['Columbus'] = homes.apply(lambda x: (1 if x['city'] == 'Columbus' else 0), axis=1)\n",
    "homes['Grove City'] = homes.apply(lambda x: (1 if x['city'] == 'Grove City' else 0), axis=1)\n",
    "homes['Dublin'] = homes.apply(lambda x: (1 if x['city'] == 'Dublin' else 0), axis=1)\n",
    "homes['Canal Winchester'] = homes.apply(lambda x: (1 if x['city'] == 'Canal Winchester' else 0), axis=1)\n",
    "homes['Groveport'] = homes.apply(lambda x: (1 if x['city'] == 'Groveport' else 0), axis=1)\n",
    "homes['Worthington'] = homes.apply(lambda x: (1 if x['city'] == 'Worthington' else 0), axis=1)\n",
    "homes['Hilliard'] = homes.apply(lambda x: (1 if x['city'] == 'Hilliard' else 0), axis=1)\n",
    "homes['New Albany'] = homes.apply(lambda x: (1 if x['city'] == 'New Albany' else 0), axis=1)\n",
    "homes['Galloway'] = homes.apply(lambda x: (1 if x['city'] == 'Galloway' else 0), axis=1)\n",
    "homes['Reynoldsburg'] = homes.apply(lambda x: (1 if x['city'] == 'Reynoldsburg' else 0), axis=1)\n",
    "homes['Powell'] = homes.apply(lambda x: (1 if x['city'] == 'Powell' else 0), axis=1)\n",
    "homes['Lewis Center'] = homes.apply(lambda x: (1 if x['city'] == 'Lewis Center' else 0), axis=1)"
   ]
  },
  {
   "cell_type": "code",
   "execution_count": 16,
   "metadata": {},
   "outputs": [],
   "source": [
    "X = homes[['bed', 'bath', 'sqft', 'Condo?', 'Westerville', 'Blacklick', 'Columbus', \n",
    "          'Grove City', 'Dublin', 'Canal Winchester', 'Groveport', \n",
    "          'Worthington', 'Hilliard', 'New Albany', 'Galloway', 'Reynoldsburg', \n",
    "          'Powell', 'Lewis Center']]\n",
    "Y = homes['price']"
   ]
  },
  {
   "cell_type": "code",
   "execution_count": 17,
   "metadata": {},
   "outputs": [
    {
     "name": "stdout",
     "output_type": "stream",
     "text": [
      "Intercept: \n",
      " 2064.060468342941\n",
      "Coefficients: \n",
      " [-34310.34410923  40447.84456852    148.66617706  -8861.19065191\n",
      " -17931.81670345 -59733.2397866   12753.70974517   4616.60561438\n",
      "  44701.89024799 -29153.62649476  27337.44667794  24991.32664527\n",
      "  22649.31488583 -16132.04014312  -2911.78013516 -59522.62971463\n",
      "  18381.35389674  29953.48526439]\n"
     ]
    }
   ],
   "source": [
    "X_train, X_test, y_train, y_test = train_test_split(X, Y, test_size=0.2, random_state=0)\n",
    "regressor = LinearRegression()  \n",
    "model= regressor.fit(X_train, y_train) \n",
    "print('Intercept: \\n', regressor.intercept_)\n",
    "print('Coefficients: \\n', regressor.coef_)"
   ]
  },
  {
   "cell_type": "code",
   "execution_count": 18,
   "metadata": {},
   "outputs": [],
   "source": [
    "y_pred = regressor.predict(X_test)\n",
    "df = pd.DataFrame({'Actual': y_test, 'Predicted': y_pred})"
   ]
  },
  {
   "cell_type": "code",
   "execution_count": 19,
   "metadata": {},
   "outputs": [
    {
     "data": {
      "text/html": [
       "<div>\n",
       "<style scoped>\n",
       "    .dataframe tbody tr th:only-of-type {\n",
       "        vertical-align: middle;\n",
       "    }\n",
       "\n",
       "    .dataframe tbody tr th {\n",
       "        vertical-align: top;\n",
       "    }\n",
       "\n",
       "    .dataframe thead th {\n",
       "        text-align: right;\n",
       "    }\n",
       "</style>\n",
       "<table border=\"1\" class=\"dataframe\">\n",
       "  <thead>\n",
       "    <tr style=\"text-align: right;\">\n",
       "      <th></th>\n",
       "      <th>Actual</th>\n",
       "      <th>Predicted</th>\n",
       "    </tr>\n",
       "  </thead>\n",
       "  <tbody>\n",
       "    <tr>\n",
       "      <th>140</th>\n",
       "      <td>265000</td>\n",
       "      <td>264400.854711</td>\n",
       "    </tr>\n",
       "    <tr>\n",
       "      <th>150</th>\n",
       "      <td>160000</td>\n",
       "      <td>168212.323123</td>\n",
       "    </tr>\n",
       "    <tr>\n",
       "      <th>312</th>\n",
       "      <td>64000</td>\n",
       "      <td>160351.123543</td>\n",
       "    </tr>\n",
       "    <tr>\n",
       "      <th>60</th>\n",
       "      <td>198000</td>\n",
       "      <td>252061.562015</td>\n",
       "    </tr>\n",
       "    <tr>\n",
       "      <th>341</th>\n",
       "      <td>542500</td>\n",
       "      <td>396337.178142</td>\n",
       "    </tr>\n",
       "    <tr>\n",
       "      <th>145</th>\n",
       "      <td>310000</td>\n",
       "      <td>150097.462936</td>\n",
       "    </tr>\n",
       "    <tr>\n",
       "      <th>37</th>\n",
       "      <td>187000</td>\n",
       "      <td>202835.783051</td>\n",
       "    </tr>\n",
       "    <tr>\n",
       "      <th>244</th>\n",
       "      <td>245600</td>\n",
       "      <td>164352.319009</td>\n",
       "    </tr>\n",
       "    <tr>\n",
       "      <th>74</th>\n",
       "      <td>1175000</td>\n",
       "      <td>464845.048585</td>\n",
       "    </tr>\n",
       "    <tr>\n",
       "      <th>263</th>\n",
       "      <td>81000</td>\n",
       "      <td>116876.497666</td>\n",
       "    </tr>\n",
       "  </tbody>\n",
       "</table>\n",
       "</div>"
      ],
      "text/plain": [
       "      Actual      Predicted\n",
       "140   265000  264400.854711\n",
       "150   160000  168212.323123\n",
       "312    64000  160351.123543\n",
       "60    198000  252061.562015\n",
       "341   542500  396337.178142\n",
       "145   310000  150097.462936\n",
       "37    187000  202835.783051\n",
       "244   245600  164352.319009\n",
       "74   1175000  464845.048585\n",
       "263    81000  116876.497666"
      ]
     },
     "execution_count": 19,
     "metadata": {},
     "output_type": "execute_result"
    }
   ],
   "source": [
    "df.head(10)"
   ]
  },
  {
   "cell_type": "code",
   "execution_count": 20,
   "metadata": {},
   "outputs": [
    {
     "name": "stdout",
     "output_type": "stream",
     "text": [
      "                            OLS Regression Results                            \n",
      "==============================================================================\n",
      "Dep. Variable:                  price   R-squared:                       0.518\n",
      "Model:                            OLS   Adj. R-squared:                  0.495\n",
      "Method:                 Least Squares   F-statistic:                     22.19\n",
      "Date:                Wed, 03 Jun 2020   Prob (F-statistic):           1.04e-45\n",
      "Time:                        21:29:13   Log-Likelihood:                -4768.6\n",
      "No. Observations:                 369   AIC:                             9573.\n",
      "Df Residuals:                     351   BIC:                             9644.\n",
      "Df Model:                          17                                         \n",
      "Covariance Type:            nonrobust                                         \n",
      "====================================================================================\n",
      "                       coef    std err          t      P>|t|      [0.025      0.975]\n",
      "------------------------------------------------------------------------------------\n",
      "const            -1.644e+04   2.48e+04     -0.662      0.508   -6.53e+04    3.24e+04\n",
      "bed              -3.197e+04   8561.637     -3.734      0.000   -4.88e+04   -1.51e+04\n",
      "bath              5.542e+04   1.12e+04      4.948      0.000    3.34e+04    7.74e+04\n",
      "sqft               139.2426     14.825      9.393      0.000     110.087     168.399\n",
      "Condo?           -7484.2333   1.08e+04     -0.696      0.487   -2.86e+04    1.37e+04\n",
      "Westerville      -1.836e+04   3.41e+04     -0.539      0.590   -8.53e+04    4.86e+04\n",
      "Blacklick         -6.14e+04   3.09e+04     -1.984      0.048   -1.22e+05    -534.298\n",
      "Columbus          1.459e+04   1.31e+04      1.118      0.264   -1.11e+04    4.03e+04\n",
      "Grove City       -6144.8943   2.97e+04     -0.207      0.836   -6.46e+04    5.23e+04\n",
      "Dublin            3.035e+04   2.81e+04      1.079      0.281    -2.5e+04    8.56e+04\n",
      "Canal Winchester -4.504e+04   3.39e+04     -1.329      0.185   -1.12e+05    2.16e+04\n",
      "Groveport           2.9e+04   4.91e+04      0.591      0.555   -6.75e+04    1.26e+05\n",
      "Worthington       3.495e+04   3.77e+04      0.928      0.354   -3.91e+04    1.09e+05\n",
      "Hilliard          2.047e+04   3.37e+04      0.608      0.543   -4.57e+04    8.67e+04\n",
      "New Albany       -7810.3661   4.42e+04     -0.177      0.860   -9.48e+04    7.91e+04\n",
      "Galloway          3738.0508   3.54e+04      0.106      0.916   -6.59e+04    7.34e+04\n",
      "Reynoldsburg     -6.278e+04   4.04e+04     -1.556      0.121   -1.42e+05    1.66e+04\n",
      "Powell            3.139e+04   5.62e+04      0.559      0.577   -7.91e+04    1.42e+05\n",
      "Lewis Center      2.061e+04   9.56e+04      0.216      0.829   -1.67e+05    2.09e+05\n",
      "==============================================================================\n",
      "Omnibus:                      211.773   Durbin-Watson:                   1.845\n",
      "Prob(Omnibus):                  0.000   Jarque-Bera (JB):             1979.201\n",
      "Skew:                           2.265   Prob(JB):                         0.00\n",
      "Kurtosis:                      13.402   Cond. No.                     2.14e+19\n",
      "==============================================================================\n",
      "\n",
      "Warnings:\n",
      "[1] Standard Errors assume that the covariance matrix of the errors is correctly specified.\n",
      "[2] The smallest eigenvalue is 2.31e-30. This might indicate that there are\n",
      "strong multicollinearity problems or that the design matrix is singular.\n"
     ]
    },
    {
     "name": "stderr",
     "output_type": "stream",
     "text": [
      "/Users/danieldetrick/anaconda3/lib/python3.7/site-packages/numpy/core/fromnumeric.py:2389: FutureWarning: Method .ptp is deprecated and will be removed in a future version. Use numpy.ptp instead.\n",
      "  return ptp(axis=axis, out=out, **kwargs)\n"
     ]
    }
   ],
   "source": [
    "# with statsmodels\n",
    "X = sm.add_constant(X) # adding a constant\n",
    " \n",
    "model = sm.OLS(Y, X).fit()\n",
    "predictions = model.predict(X) \n",
    " \n",
    "print_model = model.summary()\n",
    "print(print_model)"
   ]
  },
  {
   "cell_type": "code",
   "execution_count": null,
   "metadata": {},
   "outputs": [],
   "source": []
  }
 ],
 "metadata": {
  "kernelspec": {
   "display_name": "Python 3",
   "language": "python",
   "name": "python3"
  },
  "language_info": {
   "codemirror_mode": {
    "name": "ipython",
    "version": 3
   },
   "file_extension": ".py",
   "mimetype": "text/x-python",
   "name": "python",
   "nbconvert_exporter": "python",
   "pygments_lexer": "ipython3",
   "version": "3.7.3"
  }
 },
 "nbformat": 4,
 "nbformat_minor": 2
}
